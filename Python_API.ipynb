{
  "nbformat": 4,
  "nbformat_minor": 0,
  "metadata": {
    "colab": {
      "provenance": []
    },
    "kernelspec": {
      "name": "python3",
      "display_name": "Python 3"
    },
    "language_info": {
      "name": "python"
    }
  },
  "cells": [
    {
      "cell_type": "code",
      "execution_count": 4,
      "metadata": {
        "colab": {
          "base_uri": "https://localhost:8080/"
        },
        "id": "a-ohWRxoCMEw",
        "outputId": "50156913-a305-42f3-b2f4-613396ca739d"
      },
      "outputs": [
        {
          "output_type": "stream",
          "name": "stdout",
          "text": [
            "{\"patch\":\"25.6.0.168788\",\"classes\":[\"Death Knight\",\"Druid\",\"Hunter\",\"Mage\",\"Paladin\",\"Priest\",\"Rogue\",\"Shaman\",\"Warlock\",\"Warrior\",\"Dream\",\"Neutral\",\"Whizbang\",\"Demon Hunter\"],\"sets\":[\"Basic\",\"Classic\",\"Hall of Fame\",\"Missions\",\"Demo\",\"System\",\"Slush\",\"Promo\",\"Naxxramas\",\"Goblins vs Gnomes\",\"Blackrock Mountain\",\"The Grand Tournament\",\"Credits\",\"Hero Skins\",\"Tavern Brawl\",\"The League of Explorers\",\"Whispers of the Old Gods\",\"Whispers of the Old Gods\",\"One Night in Karazhan\",\"One Night in Karazhan\",\"Mean Streets of Gadgetzan\",\"Mean Streets of Gadgetzan\",\"Journey to Un'Goro\",\"Knights of the Frozen Throne\",\"Kobolds & Catacombs\",\"The Witchwood\",\"The Boomsday Project\",\"Rastakhan's Rumble\",\"Rise of Shadows\",\"Taverns of Time\",\"Saviors of Uldum\",\"Descent of Dragons\",\"Galakrond's Awakening\",\"Ashes of Outland\",\"Wild Event\",\"Scholomance Academy\",\"Battlegrounds\",\"Demon Hunter Initiate\",\"Madness at the Darkmoon Faire\",\"Forged in the Barrens\",\"Legacy\",\"Core\",\"Classic\",\"Wailing Caverns\",\"United in Stormwind\",\"Mercenaries\",\"Fractured in Alterac Valley\",\"Voyage to the Sunken City\",\"Unknown\",\"Murder at Castle Nathria\",\"March of the Lich King\",\"Path of Arthas\",\"Festival of Legends\"],\"standard\":[\"Core\",\"Forged in the Barrens\",\"United in Stormwind\",\"Fractured in Alterac Valley\",\"Voyage to the Sunken City\",\"Murder at Castle Nathria\",\"March of the Lich King\",\"Path of Arthas\",\"Festival of Legends\"],\"wild\":[\"Legacy\",\"Promo\",\"Naxxramas\",\"Goblins vs Gnomes\",\"Blackrock Mountain\",\"The Grand Tournament\",\"The League of Explorers\",\"Whispers of the Old Gods\",\"Whispers of the Old Gods\",\"One Night in Karazhan\",\"One Night in Karazhan\",\"Mean Streets of Gadgetzan\",\"Mean Streets of Gadgetzan\",\"Journey to Un'Goro\",\"Knights of the Frozen Throne\",\"Kobolds & Catacombs\",\"The Witchwood\",\"The Boomsday Project\",\"Rastakhan's Rumble\",\"Rise of Shadows\",\"Saviors of Uldum\",\"Descent of Dragons\",\"Galakrond's Awakening\",\"Ashes of Outland\",\"Demon Hunter Initiate\",\"Scholomance Academy\",\"Madness at the Darkmoon Faire\",\"Forged in the Barrens\",\"United in Stormwind\",\"Fractured in Alterac Valley\",\"Voyage to the Sunken City\",\"Murder at Castle Nathria\",\"March of the Lich King\",\"Path of Arthas\",\"Festival of Legends\"],\"types\":[\"Hero\",\"Minion\",\"Spell\",\"Enchantment\",\"Weapon\",\"Hero Power\",\"Location\"],\"factions\":[\"Horde\",\"Alliance\",\"Neutral\"],\"qualities\":[\"Common\",\"Free\",\"Rare\",\"Epic\",\"Legendary\"],\"races\":[\"Orc\",\"Undead\",\"Murloc\",\"Demon\",\"Mech\",\"Elemental\",\"Beast\",\"Totem\",\"Pirate\",\"Dragon\",\"All\",\"Quilboar\",\"Naga\"],\"locales\":{\"DE_DE\":\"deDE\",\"EN_GB\":\"enGB\",\"EN_US\":\"enUS\",\"ES_ES\":\"esES\",\"ES_MX\":\"esMX\",\"FR_FR\":\"frFR\",\"IT_IT\":\"itIT\",\"KO_KR\":\"koKR\",\"PL_PL\":\"plPL\",\"PT_BR\":\"ptBR\",\"RU_RU\":\"ruRU\",\"ZH_CN\":\"zhCN\",\"ZH_TW\":\"zhTW\",\"JA_JP\":\"jaJP\",\"TH_TH\":\"thTH\"}}\n"
          ]
        }
      ],
      "source": [
        "import requests\n",
        "\n",
        "\n",
        "url = \"https://omgvamp-hearthstone-v1.p.rapidapi.com/info\"\n",
        "\n",
        "headers = {\n",
        "\t\"X-RapidAPI-Key\": \"36e9eb5f13mshc7f48d319fb4e84p1fcdc1jsnad5c8fe5e5c8\",\n",
        "\t\"X-RapidAPI-Host\": \"omgvamp-hearthstone-v1.p.rapidapi.com\"\n",
        "}\n",
        "\n",
        "response = requests.request(\"GET\", url, headers=headers)\n",
        "\n",
        "print(response.text)"
      ]
    }
  ]
}
